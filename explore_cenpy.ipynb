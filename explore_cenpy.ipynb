{
 "cells": [
  {
   "cell_type": "code",
   "execution_count": 1,
   "id": "dcfc1d5d",
   "metadata": {},
   "outputs": [],
   "source": [
    "import cenpy"
   ]
  },
  {
   "cell_type": "code",
   "execution_count": 3,
   "id": "195c001e",
   "metadata": {},
   "outputs": [
    {
     "name": "stderr",
     "output_type": "stream",
     "text": [
      "/Users/nate_schwindt/anaconda3/envs/time-series/lib/python3.10/site-packages/pyproj/crs/crs.py:130: FutureWarning: '+init=<authority>:<code>' syntax is deprecated. '<authority>:<code>' is the preferred initialization method. When making the change, be mindful of axis order changes: https://pyproj4.github.io/pyproj/stable/gotchas.html#axis-order-changes-in-proj-6\n",
      "  in_crs_string = _prepare_from_proj_string(in_crs_string)\n",
      "/Users/nate_schwindt/anaconda3/envs/time-series/lib/python3.10/site-packages/pandas/core/dtypes/cast.py:1981: ShapelyDeprecationWarning: __len__ for multi-part geometries is deprecated and will be removed in Shapely 2.0. Check the length of the `geoms` property instead to get the  number of parts of a multi-part geometry.\n",
      "  result[:] = values\n",
      "/Users/nate_schwindt/anaconda3/envs/time-series/lib/python3.10/site-packages/pyproj/crs/crs.py:130: FutureWarning: '+init=<authority>:<code>' syntax is deprecated. '<authority>:<code>' is the preferred initialization method. When making the change, be mindful of axis order changes: https://pyproj4.github.io/pyproj/stable/gotchas.html#axis-order-changes-in-proj-6\n",
      "  in_crs_string = _prepare_from_proj_string(in_crs_string)\n",
      "/Users/nate_schwindt/anaconda3/envs/time-series/lib/python3.10/site-packages/cenpy/products.py:605: FutureWarning: The `op` parameter is deprecated and will be removed in a future release. Please use the `predicate` parameter instead.\n",
      "  return self._from_name(state, variables, level, \"States\", **kwargs)\n"
     ]
    },
    {
     "data": {
      "text/html": [
       "<div>\n",
       "<style scoped>\n",
       "    .dataframe tbody tr th:only-of-type {\n",
       "        vertical-align: middle;\n",
       "    }\n",
       "\n",
       "    .dataframe tbody tr th {\n",
       "        vertical-align: top;\n",
       "    }\n",
       "\n",
       "    .dataframe thead th {\n",
       "        text-align: right;\n",
       "    }\n",
       "</style>\n",
       "<table border=\"1\" class=\"dataframe\">\n",
       "  <thead>\n",
       "    <tr style=\"text-align: right;\">\n",
       "      <th></th>\n",
       "      <th>GEOID</th>\n",
       "      <th>geometry</th>\n",
       "      <th>P001001</th>\n",
       "      <th>NAME</th>\n",
       "      <th>state</th>\n",
       "      <th>county</th>\n",
       "    </tr>\n",
       "  </thead>\n",
       "  <tbody>\n",
       "    <tr>\n",
       "      <th>0</th>\n",
       "      <td>08021</td>\n",
       "      <td>POLYGON ((-11810999.310 4438402.770, -11812184...</td>\n",
       "      <td>8256.0</td>\n",
       "      <td>Conejos County, Colorado</td>\n",
       "      <td>08</td>\n",
       "      <td>021</td>\n",
       "    </tr>\n",
       "    <tr>\n",
       "      <th>1</th>\n",
       "      <td>08023</td>\n",
       "      <td>POLYGON ((-11706938.850 4479704.730, -11706919...</td>\n",
       "      <td>3524.0</td>\n",
       "      <td>Costilla County, Colorado</td>\n",
       "      <td>08</td>\n",
       "      <td>023</td>\n",
       "    </tr>\n",
       "    <tr>\n",
       "      <th>2</th>\n",
       "      <td>08077</td>\n",
       "      <td>POLYGON ((-12064620.840 4697267.680, -12064689...</td>\n",
       "      <td>146723.0</td>\n",
       "      <td>Mesa County, Colorado</td>\n",
       "      <td>08</td>\n",
       "      <td>077</td>\n",
       "    </tr>\n",
       "    <tr>\n",
       "      <th>3</th>\n",
       "      <td>08015</td>\n",
       "      <td>POLYGON ((-11792971.230 4686668.200, -11792971...</td>\n",
       "      <td>17809.0</td>\n",
       "      <td>Chaffee County, Colorado</td>\n",
       "      <td>08</td>\n",
       "      <td>015</td>\n",
       "    </tr>\n",
       "    <tr>\n",
       "      <th>4</th>\n",
       "      <td>08117</td>\n",
       "      <td>POLYGON ((-11786388.130 4817212.430, -11786384...</td>\n",
       "      <td>27994.0</td>\n",
       "      <td>Summit County, Colorado</td>\n",
       "      <td>08</td>\n",
       "      <td>117</td>\n",
       "    </tr>\n",
       "  </tbody>\n",
       "</table>\n",
       "</div>"
      ],
      "text/plain": [
       "   GEOID                                           geometry   P001001  \\\n",
       "0  08021  POLYGON ((-11810999.310 4438402.770, -11812184...    8256.0   \n",
       "1  08023  POLYGON ((-11706938.850 4479704.730, -11706919...    3524.0   \n",
       "2  08077  POLYGON ((-12064620.840 4697267.680, -12064689...  146723.0   \n",
       "3  08015  POLYGON ((-11792971.230 4686668.200, -11792971...   17809.0   \n",
       "4  08117  POLYGON ((-11786388.130 4817212.430, -11786384...   27994.0   \n",
       "\n",
       "                        NAME state county  \n",
       "0   Conejos County, Colorado    08    021  \n",
       "1  Costilla County, Colorado    08    023  \n",
       "2      Mesa County, Colorado    08    077  \n",
       "3   Chaffee County, Colorado    08    015  \n",
       "4    Summit County, Colorado    08    117  "
      ]
     },
     "execution_count": 3,
     "metadata": {},
     "output_type": "execute_result"
    }
   ],
   "source": [
    "dec10 = cenpy.products.Decennial2010()\n",
    "dec10_data = dec10.from_state(state='Colorado', variables='P001001', level='county')\n",
    "dec10_data.head()"
   ]
  },
  {
   "cell_type": "code",
   "execution_count": null,
   "id": "97b02d2a",
   "metadata": {},
   "outputs": [
    {
     "name": "stderr",
     "output_type": "stream",
     "text": [
      "/Users/nate_schwindt/anaconda3/envs/time-series/lib/python3.10/site-packages/pyproj/crs/crs.py:130: FutureWarning: '+init=<authority>:<code>' syntax is deprecated. '<authority>:<code>' is the preferred initialization method. When making the change, be mindful of axis order changes: https://pyproj4.github.io/pyproj/stable/gotchas.html#axis-order-changes-in-proj-6\n",
      "  in_crs_string = _prepare_from_proj_string(in_crs_string)\n",
      "/Users/nate_schwindt/anaconda3/envs/time-series/lib/python3.10/site-packages/pandas/core/dtypes/cast.py:1981: ShapelyDeprecationWarning: __len__ for multi-part geometries is deprecated and will be removed in Shapely 2.0. Check the length of the `geoms` property instead to get the  number of parts of a multi-part geometry.\n",
      "  result[:] = values\n",
      "/Users/nate_schwindt/anaconda3/envs/time-series/lib/python3.10/site-packages/pyproj/crs/crs.py:130: FutureWarning: '+init=<authority>:<code>' syntax is deprecated. '<authority>:<code>' is the preferred initialization method. When making the change, be mindful of axis order changes: https://pyproj4.github.io/pyproj/stable/gotchas.html#axis-order-changes-in-proj-6\n",
      "  in_crs_string = _prepare_from_proj_string(in_crs_string)\n"
     ]
    }
   ],
   "source": [
    "cities = dec10.from_state(state='Colorado', variables='P001001', level='tract')\n",
    "cities.head()"
   ]
  },
  {
   "cell_type": "code",
   "execution_count": null,
   "id": "e2543237",
   "metadata": {},
   "outputs": [],
   "source": [
    "df_population = pd.DataFrame()\n",
    "df_population['population'] = dec10_data['P001001']\n",
    "\n",
    "counties = []\n",
    "for c in range(len(dec10_data)):\n",
    "    counties.append(dec10_data['NAME'][c].split(',')[0])\n",
    "    \n",
    "df_population['county'] = counties\n",
    "total_pop = df_population.population.sum()\n",
    "print('Total Colorado population = %d' %(total_pop) )\n",
    "df_population['percent_pop'] = df_population['population'] / total_pop\n",
    "df_population[df_population['population'] == 622263.0]"
   ]
  },
  {
   "cell_type": "code",
   "execution_count": null,
   "id": "3b52f939",
   "metadata": {},
   "outputs": [],
   "source": [
    "f,ax = plt.subplots(1,1,figsize=(30,30))\n",
    "# dec10_data.plot('P001001',edgecolor='white', cmap='plasma', ax=ax, linewidth=.2, legend=True)\n",
    "cities.plot('P001001',edgecolor='white', cmap='plasma', ax=ax, linewidth=.2, legend=True)"
   ]
  },
  {
   "cell_type": "code",
   "execution_count": null,
   "id": "def64bcf",
   "metadata": {},
   "outputs": [],
   "source": []
  }
 ],
 "metadata": {
  "kernelspec": {
   "display_name": "Python 3 (ipykernel)",
   "language": "python",
   "name": "python3"
  },
  "language_info": {
   "codemirror_mode": {
    "name": "ipython",
    "version": 3
   },
   "file_extension": ".py",
   "mimetype": "text/x-python",
   "name": "python",
   "nbconvert_exporter": "python",
   "pygments_lexer": "ipython3",
   "version": "3.10.4"
  }
 },
 "nbformat": 4,
 "nbformat_minor": 5
}
