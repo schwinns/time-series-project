{
 "cells": [
  {
   "cell_type": "code",
   "execution_count": 1,
   "id": "e67f118b",
   "metadata": {},
   "outputs": [],
   "source": [
    "from meteostat import Hourly, Stations\n",
    "from geopy.geocoders import Nominatim\n",
    "from datetime import datetime"
   ]
  },
  {
   "cell_type": "code",
   "execution_count": null,
   "id": "a9a1e8f3",
   "metadata": {},
   "outputs": [],
   "source": [
    "start_time = datetime(2015,1,1)\n",
    "end_time = datetime(2022,4,24)"
   ]
  },
  {
   "cell_type": "code",
   "execution_count": null,
   "id": "151f5bbd",
   "metadata": {},
   "outputs": [],
   "source": [
    "stations = Stations()\n",
    "stations = stations.region('US', 'CO')\n",
    "stations = stations.inventory('hourly',(start_time.strftime('%Y-%m-%d %H:%M:%S'), end_time.strftime('%Y-%m-%d %H:%M:%S')),)\n",
    "print('Total CO stations to look at: %d' %(stations.count()) )\n",
    "df_stations = stations.fetch()\n",
    "station_ids = df_stations.index.to_list()\n",
    "df_stations.head()"
   ]
  },
  {
   "cell_type": "code",
   "execution_count": null,
   "id": "5c3da9d8",
   "metadata": {},
   "outputs": [],
   "source": [
    "data = Hourly(station_ids, start_time.replace(tzinfo=None), end_time.replace(tzinfo=None), timezone='US/Mountain')\n",
    "data = data.normalize()\n",
    "# data = data.interpolate(24)\n",
    "df_weather = data.fetch()\n",
    "df_tmp = df_weather.reset_index(level = 'station')\n",
    "df_weather.head()"
   ]
  },
  {
   "cell_type": "code",
   "execution_count": null,
   "id": "2e3a65cb",
   "metadata": {},
   "outputs": [],
   "source": [
    "# Test plot for a single station\n",
    "df_tmp[df_tmp.station == '72462'].plot(y='temp')\n",
    "df_tmp[df_tmp.station == '72462'].tail(5)"
   ]
  },
  {
   "cell_type": "code",
   "execution_count": null,
   "id": "d035ae02",
   "metadata": {},
   "outputs": [],
   "source": [
    "# Add a county column to the stations directory\n",
    "geolocator = Nominatim(user_agent='geoapiExercises')\n",
    "\n",
    "counties = []\n",
    "for s in range(len(df_stations)):\n",
    "    lat = str(df_stations['latitude'][s])\n",
    "    long = str(df_stations['longitude'][s])\n",
    "    \n",
    "    location = geolocator.reverse(lat+','+long)\n",
    "    counties.append(location.raw['address'].get('county'))\n",
    "    \n",
    "df_stations['county'] = counties\n",
    "df_stations.head()"
   ]
  },
  {
   "cell_type": "code",
   "execution_count": null,
   "id": "18d98f34",
   "metadata": {},
   "outputs": [],
   "source": [
    "ax = df_tmp[df_tmp.station == '72466'].plot(y='temp', \n",
    "                                            label='CO Springs Muni', \n",
    "                                            xlim=('01-01-2021','02-01-2021'),\n",
    "                                            figsize=(12,8))\n",
    "df_tmp[df_tmp.station == '72468'].plot(y='temp', label='Fort Carson', ax=ax)\n",
    "ax.legend();"
   ]
  }
 ],
 "metadata": {
  "kernelspec": {
   "display_name": "Python 3 (ipykernel)",
   "language": "python",
   "name": "python3"
  },
  "language_info": {
   "codemirror_mode": {
    "name": "ipython",
    "version": 3
   },
   "file_extension": ".py",
   "mimetype": "text/x-python",
   "name": "python",
   "nbconvert_exporter": "python",
   "pygments_lexer": "ipython3",
   "version": "3.10.4"
  }
 },
 "nbformat": 4,
 "nbformat_minor": 5
}
