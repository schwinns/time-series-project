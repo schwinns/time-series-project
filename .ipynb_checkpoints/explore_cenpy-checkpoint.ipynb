{
 "cells": [
  {
   "cell_type": "code",
   "execution_count": 1,
   "id": "dcfc1d5d",
   "metadata": {},
   "outputs": [],
   "source": [
    "import cenpy"
   ]
  },
  {
   "cell_type": "code",
   "execution_count": null,
   "id": "195c001e",
   "metadata": {},
   "outputs": [],
   "source": [
    "dec10 = cenpy.products.Decennial2010()\n",
    "dec10_data = dec10.from_state(state='Colorado', variables='P001001', level='county')\n",
    "dec10_data.head()"
   ]
  },
  {
   "cell_type": "code",
   "execution_count": null,
   "id": "97b02d2a",
   "metadata": {},
   "outputs": [],
   "source": [
    "cities = dec10.from_state(state='Colorado', variables='P001001', level='tract')\n",
    "cities.head()"
   ]
  },
  {
   "cell_type": "code",
   "execution_count": null,
   "id": "e2543237",
   "metadata": {},
   "outputs": [],
   "source": [
    "df_population = pd.DataFrame()\n",
    "df_population['population'] = dec10_data['P001001']\n",
    "\n",
    "counties = []\n",
    "for c in range(len(dec10_data)):\n",
    "    counties.append(dec10_data['NAME'][c].split(',')[0])\n",
    "    \n",
    "df_population['county'] = counties\n",
    "total_pop = df_population.population.sum()\n",
    "print('Total Colorado population = %d' %(total_pop) )\n",
    "df_population['percent_pop'] = df_population['population'] / total_pop\n",
    "df_population[df_population['population'] == 622263.0]"
   ]
  },
  {
   "cell_type": "code",
   "execution_count": null,
   "id": "3b52f939",
   "metadata": {},
   "outputs": [],
   "source": [
    "f,ax = plt.subplots(1,1,figsize=(30,30))\n",
    "# dec10_data.plot('P001001',edgecolor='white', cmap='plasma', ax=ax, linewidth=.2, legend=True)\n",
    "cities.plot('P001001',edgecolor='white', cmap='plasma', ax=ax, linewidth=.2, legend=True)"
   ]
  }
 ],
 "metadata": {
  "kernelspec": {
   "display_name": "Python 3 (ipykernel)",
   "language": "python",
   "name": "python3"
  },
  "language_info": {
   "codemirror_mode": {
    "name": "ipython",
    "version": 3
   },
   "file_extension": ".py",
   "mimetype": "text/x-python",
   "name": "python",
   "nbconvert_exporter": "python",
   "pygments_lexer": "ipython3",
   "version": "3.10.4"
  }
 },
 "nbformat": 4,
 "nbformat_minor": 5
}
